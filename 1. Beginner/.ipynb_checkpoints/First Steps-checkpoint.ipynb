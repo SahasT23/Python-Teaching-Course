{
 "cells": [
  {
   "cell_type": "markdown",
   "metadata": {},
   "source": [
    "# What is programming?\n",
    "\n",
    "You have to think of programming as learning a new language to be able to interact with computers. "
   ]
  }
 ],
 "metadata": {
  "language_info": {
   "name": "python"
  }
 },
 "nbformat": 4,
 "nbformat_minor": 2
}
