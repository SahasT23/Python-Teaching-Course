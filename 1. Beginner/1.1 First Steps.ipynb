{
 "cells": [
  {
   "cell_type": "markdown",
   "metadata": {},
   "source": [
    "## What is programming?\n",
    "\n",
    "You have to think of programming as learning a new language to be able to interact with computers. This course will be freely available on Github and you can clone/fork this repository and attempt to learn and solve common coding problems, understand fundamental coding concepts and from there start building applications that you want to use.\n",
    "\n",
    "### Course Structure\n",
    "\n",
    "We will start with a concept, move onto example code and finally finish with a small assignment to apply what you have learnt with a slight change and an increase in difficulty compared to the example code. \n",
    "\n",
    "Here is an example of this below:"
   ]
  },
  {
   "cell_type": "markdown",
   "metadata": {},
   "source": [
    "## What is a loop?\n",
    "\n",
    "You have to think of a loop as a repetitive process, something will keep happening until a certain objective has been reached or starting a loop when another condition is fulfilled. In Python we usually have two types of loops; first we have 'for' loops and 'while' loops and lastly we have nested loops.\n",
    "\n",
    "Let's start with a 'for' loop. A 'for' loop means that the computer will go through every 'item' in a 'sequence' and then read the value or number and then print it out. We can add other conditions or until a certain criteria has been met, but let's keep it simple for now."
   ]
  },
  {
   "cell_type": "code",
   "execution_count": null,
   "metadata": {},
   "outputs": [],
   "source": [
    "# This is the general structure for a 'for' loop\n",
    "\n",
    "# for 'item' in 'sequence':\n",
    "    # Code block to be executed\n",
    "    # Use 'item' to access the current element in the sequence\n",
    "\n",
    "fruits = [\"apple\", \"banana\", \"cherry\"]\n",
    "for fruit in fruits:\n",
    "    print(fruit)\n",
    "\n",
    "# Press 'run' to see the results"
   ]
  },
  {
   "cell_type": "markdown",
   "metadata": {},
   "source": [
    "###  What do you think will be printed?"
   ]
  },
  {
   "cell_type": "code",
   "execution_count": null,
   "metadata": {},
   "outputs": [],
   "source": [
    "apple\n",
    "banana\n",
    "cherry\n",
    "\n",
    "# The list was printed in the exact same order"
   ]
  }
 ],
 "metadata": {
  "kernelspec": {
   "display_name": "Python 3",
   "language": "python",
   "name": "python3"
  },
  "language_info": {
   "name": "python",
   "version": "3.10.12"
  }
 },
 "nbformat": 4,
 "nbformat_minor": 2
}
