{
 "cells": [
  {
   "cell_type": "markdown",
   "metadata": {},
   "source": [
    "variables and their basic operations, control structures and what can be done with them"
   ]
  }
 ],
 "metadata": {
  "language_info": {
   "name": "python"
  }
 },
 "nbformat": 4,
 "nbformat_minor": 2
}
