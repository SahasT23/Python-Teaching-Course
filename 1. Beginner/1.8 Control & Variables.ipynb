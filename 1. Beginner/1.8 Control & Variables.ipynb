{
 "cells": [
  {
   "cell_type": "markdown",
   "metadata": {},
   "source": [
    "variables and their basic operations, control structures and what can be done with them\n",
    "Will start with mathematical operators, explain variables with a maths based definition and then see how to do basic calculations and then apply this to loops."
   ]
  }
 ],
 "metadata": {
  "language_info": {
   "name": "python"
  }
 },
 "nbformat": 4,
 "nbformat_minor": 2
}
