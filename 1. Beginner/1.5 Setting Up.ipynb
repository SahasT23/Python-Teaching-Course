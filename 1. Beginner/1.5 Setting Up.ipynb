{
 "cells": [
  {
   "cell_type": "markdown",
   "metadata": {},
   "source": [
    "will focus on setting up VSCode for python and how to even start writing code as well as having additional plugins that will be necessary"
   ]
  }
 ],
 "metadata": {
  "language_info": {
   "name": "python"
  }
 },
 "nbformat": 4,
 "nbformat_minor": 2
}
