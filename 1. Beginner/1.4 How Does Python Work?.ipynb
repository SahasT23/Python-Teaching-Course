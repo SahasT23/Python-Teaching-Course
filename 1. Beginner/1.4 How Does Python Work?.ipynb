{
 "cells": [
  {
   "cell_type": "markdown",
   "metadata": {},
   "source": [
    "* Try to explain how python works\n",
    "- link in abstraction from previous task\n",
    "- explain what low level and high level languages are\n",
    "- explain what an interpreter is \n",
    "- show the pros and cons of this language\n",
    "- show the use cases for engineering"
   ]
  }
 ],
 "metadata": {
  "language_info": {
   "name": "python"
  }
 },
 "nbformat": 4,
 "nbformat_minor": 2
}
