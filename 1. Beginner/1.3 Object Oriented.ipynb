{
 "cells": [
  {
   "cell_type": "markdown",
   "metadata": {},
   "source": []
  },
  {
   "cell_type": "markdown",
   "metadata": {},
   "source": [
    "1. Focus on the 4 concepts of OOP\n",
    "- encapsulation\n",
    "- inheritance\n",
    "- polymorphism\n",
    "- abstraction\n",
    "2. then focus on:\n",
    "- methods\n",
    "- attributes\n",
    "- classes and objects\n",
    "- composition"
   ]
  }
 ],
 "metadata": {
  "language_info": {
   "name": "python"
  }
 },
 "nbformat": 4,
 "nbformat_minor": 2
}
