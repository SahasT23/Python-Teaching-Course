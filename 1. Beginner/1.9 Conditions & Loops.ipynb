{
 "cells": [
  {
   "cell_type": "code",
   "execution_count": null,
   "metadata": {},
   "outputs": [],
   "source": []
  },
  {
   "cell_type": "markdown",
   "metadata": {},
   "source": [
    "We will start with thinking of loops as mathematical functions and compare it to them with appropriate examples, e.g summation loops\n",
    "Focus on loops and conditions and show lots of examples of those, will give students a loop to fix and then try and get them to explain what the fix was and what needed to be done \n",
    "Will include all of the examples of the types of loops"
   ]
  }
 ],
 "metadata": {
  "language_info": {
   "name": "python"
  }
 },
 "nbformat": 4,
 "nbformat_minor": 2
}
