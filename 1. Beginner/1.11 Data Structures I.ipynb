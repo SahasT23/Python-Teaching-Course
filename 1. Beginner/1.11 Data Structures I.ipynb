{
 "cells": [
  {
   "cell_type": "markdown",
   "metadata": {},
   "source": [
    "lists\n",
    "tuples\n",
    "sets\n",
    "dictionaries\n",
    "and data structure processes will be covered here"
   ]
  }
 ],
 "metadata": {
  "language_info": {
   "name": "python"
  }
 },
 "nbformat": 4,
 "nbformat_minor": 2
}
